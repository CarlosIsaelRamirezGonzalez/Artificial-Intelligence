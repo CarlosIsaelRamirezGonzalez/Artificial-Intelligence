{
 "cells": [
  {
   "cell_type": "code",
   "execution_count": 1,
   "id": "90219f7a",
   "metadata": {},
   "outputs": [],
   "source": [
    "import numpy as np"
   ]
  },
  {
   "cell_type": "markdown",
   "id": "cc3f38c6",
   "metadata": {},
   "source": [
    "Arreglos "
   ]
  },
  {
   "cell_type": "code",
   "execution_count": 46,
   "id": "8c858dcc",
   "metadata": {},
   "outputs": [
    {
     "data": {
      "text/plain": [
       "array([  0,   2,   9,  11,  16,  20,  24,  31,  31,  33,  34,  34,  34,\n",
       "        34,  38,  39,  46,  48,  54,  54,  54,  58,  59,  59,  61,  63,\n",
       "        64,  67,  67,  70,  73,  74,  75,  78,  78,  81,  82,  82,  82,\n",
       "        83,  85,  85,  93,  93, 104, 105, 106, 110, 112, 114, 117, 117,\n",
       "       117, 118, 119, 119, 123, 124, 128, 133, 133, 137, 140, 141, 143,\n",
       "       143, 148, 150, 150, 154, 157, 158, 158, 159, 159, 160, 161, 161,\n",
       "       162, 170, 170, 170, 170, 171, 171, 172, 173, 176, 176, 177, 179,\n",
       "       187, 187, 187, 191, 192, 192, 192, 193, 195])"
      ]
     },
     "execution_count": 46,
     "metadata": {},
     "output_type": "execute_result"
    }
   ],
   "source": [
    "# generar numeros \n",
    "normal_arr = np.array([1,2,4], dtype='float') # <- Crea un arreglo de numeros flotantes\n",
    "\n",
    "loop_arr = np.arange(0, 20, 3) # <- Crea un arreglo, el primero es el numero de inicio, el segundo el final, y el ultimo el salto\n",
    "\n",
    "linspace_arr = np.linspace(0, 10, 9) # <- Crea un arreglo uniformemente espaciado en un intervalo especificado, (inicio, final, en cuantos saltos debe llegar al final)\n",
    "\n",
    "random_arr = np.random.randint(0, 200, 100) # <- Crea un arreglo aleatorio, (los primeros dos son el rango de eleccion aleatoria, cantidad numeros)\n",
    "\n",
    "sort_arr = np.sort(random_arr) # <- Crea un arreglo ordenado del arreglo que le demos\n"
   ]
  },
  {
   "cell_type": "code",
   "execution_count": 47,
   "id": "2d05538a",
   "metadata": {},
   "outputs": [],
   "source": [
    "# Obtener valores de arreglos\n",
    "# Para estadistica se necesita obtener varias perspectivas de los datos, estas perspectivas son dadas por valores como la media, moda,  mediana, etc.\n",
    "\n",
    "max_value = random_arr.max() # <- Obtiene el numero mas alto en el arreglo\n",
    "\n",
    "min_value = random_arr.min() # <- Obtiene el numero mas pequeño en el arreglo\n",
    "\n",
    "difference_value = random_arr.ptp() # <- Obtiene la diferencia entre el valor mas grande y el mas pequeño\n",
    "\n",
    "percentil_value = np.percentile(random_arr, 70) # <- Obtiene el percentil del arreglo, en este caso fue el percentil 70 \n",
    "\n",
    "average_value = np.average(random_arr) # <- Nos da el promedio del arreglo\n",
    "\n",
    "median_value = np.median(random_arr) # <- Nos da la mediana del arreglo\n",
    "\n",
    "std_value = np.std(random_arr) # <- Nos da la desviacion estandar del arreglo\n",
    "\n",
    "var_value = np.std(random_arr) # <- Nos da la varianza del arreglo\n",
    "\n",
    "mean_value = np.mean(random_arr) # <- Nos da la media del arreglo"
   ]
  },
  {
   "cell_type": "code",
   "execution_count": 54,
   "id": "45f54e08",
   "metadata": {},
   "outputs": [
    {
     "name": "stdout",
     "output_type": "stream",
     "text": [
      "Sin copy. \n",
      "Trozo: [0 0 0 0] \n",
      "Arreglo:  [0 0 0 0 4 5 6 7 8]\n",
      "Con copy. \n",
      "Trozo: [0 0 0 0] \n",
      "Arreglo:  [0 1 2 3 4 5 6 7 8]\n"
     ]
    }
   ],
   "source": [
    "# Advertencia: Si vamos a copiar un arreglo a otro debemos usar .copy(), de lo contrario afectaremos el arreglo copiado:\n",
    "\n",
    "# Sin copy\n",
    "\n",
    "arreglo = np.arange(0,9)\n",
    "trozo_arreglo = arreglo[0:4]\n",
    "trozo_arreglo[:] = 0\n",
    "print(\"Sin copy. \\nTrozo:\",trozo_arreglo,\"\\nArreglo: \", arreglo)\n",
    "\n",
    "# Con copy\n",
    "\n",
    "arreglo = np.arange(0,9)\n",
    "trozo_arreglo = arreglo[0:4].copy()\n",
    "trozo_arreglo[:] = 0\n",
    "print(\"Con copy. \\nTrozo:\",trozo_arreglo,\"\\nArreglo: \", arreglo)"
   ]
  },
  {
   "cell_type": "code",
   "execution_count": null,
   "id": "c85f4b03",
   "metadata": {},
   "outputs": [],
   "source": []
  }
 ],
 "metadata": {
  "kernelspec": {
   "display_name": "Python 3",
   "language": "python",
   "name": "python3"
  },
  "language_info": {
   "codemirror_mode": {
    "name": "ipython",
    "version": 3
   },
   "file_extension": ".py",
   "mimetype": "text/x-python",
   "name": "python",
   "nbconvert_exporter": "python",
   "pygments_lexer": "ipython3",
   "version": "3.11.2"
  }
 },
 "nbformat": 4,
 "nbformat_minor": 5
}
